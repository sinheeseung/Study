{
  "nbformat": 4,
  "nbformat_minor": 0,
  "metadata": {
    "colab": {
      "name": "Untitled8.ipynb",
      "provenance": []
    },
    "kernelspec": {
      "name": "python3",
      "display_name": "Python 3"
    },
    "language_info": {
      "name": "python"
    }
  },
  "cells": [
    {
      "cell_type": "code",
      "execution_count": 1,
      "metadata": {
        "id": "wm36Sf9xXX49"
      },
      "outputs": [],
      "source": [
        "import re"
      ]
    },
    {
      "cell_type": "code",
      "source": [
        "r = re.compile(\"a.c\") # a와 c 사이에 어떤 1개의 문자라도 가능\n",
        "r.search(\"kkk\") # 아무런 결과도 출력되지 않는다."
      ],
      "metadata": {
        "id": "XdqqroMpXZK_"
      },
      "execution_count": 2,
      "outputs": []
    },
    {
      "cell_type": "code",
      "source": [
        "r.search(\"abc\")"
      ],
      "metadata": {
        "colab": {
          "base_uri": "https://localhost:8080/"
        },
        "id": "Ic8bSOSjXbpd",
        "outputId": "7302f41b-6d59-45eb-c785-f68755c81267"
      },
      "execution_count": 3,
      "outputs": [
        {
          "output_type": "execute_result",
          "data": {
            "text/plain": [
              "<re.Match object; span=(0, 3), match='abc'>"
            ]
          },
          "metadata": {},
          "execution_count": 3
        }
      ]
    },
    {
      "cell_type": "code",
      "source": [
        "r = re.compile(\"ab?c\") # ?앞의 b의 개수가 (0 or 1)\n",
        "r.search(\"abbc\") # 아무런 결과도 출력되지 않는다."
      ],
      "metadata": {
        "id": "95omH_RwXowp"
      },
      "execution_count": 4,
      "outputs": []
    },
    {
      "cell_type": "code",
      "source": [
        "r.search(\"abc\") #\"ac\"도 가능"
      ],
      "metadata": {
        "colab": {
          "base_uri": "https://localhost:8080/"
        },
        "id": "3G-RiP-XXpMa",
        "outputId": "083206cc-0885-4742-af5c-28358398d3ec"
      },
      "execution_count": 5,
      "outputs": [
        {
          "output_type": "execute_result",
          "data": {
            "text/plain": [
              "<re.Match object; span=(0, 3), match='abc'>"
            ]
          },
          "metadata": {},
          "execution_count": 5
        }
      ]
    },
    {
      "cell_type": "code",
      "source": [
        "r = re.compile(\"ab*c\") # *앞의 b의 개수가 (0 ~ 무수히 많을 수 있다)\n",
        "r.search(\"a\") # 아무런 결과도 출력되지 않는다"
      ],
      "metadata": {
        "id": "8lMFCnqoX3nV"
      },
      "execution_count": 6,
      "outputs": []
    },
    {
      "cell_type": "code",
      "source": [
        "r.search(\"ac\") #\"abc\", \"abbc\", \"abbbc\", ... 가능"
      ],
      "metadata": {
        "colab": {
          "base_uri": "https://localhost:8080/"
        },
        "id": "j6s9dPV9X7sW",
        "outputId": "c55ef891-3d26-4021-9867-8c76b3fb2a00"
      },
      "execution_count": 7,
      "outputs": [
        {
          "output_type": "execute_result",
          "data": {
            "text/plain": [
              "<re.Match object; span=(0, 2), match='ac'>"
            ]
          },
          "metadata": {},
          "execution_count": 7
        }
      ]
    },
    {
      "cell_type": "code",
      "source": [
        "r = re.compile(\"ab+c\") # +앞의 b 개수가 (1 ~ 무수히 많을 수 있다)\n",
        "r.search(\"ac\") # 아무런 결과도 출력되지 않는다."
      ],
      "metadata": {
        "id": "RGRkcyhGYMdF"
      },
      "execution_count": 9,
      "outputs": []
    },
    {
      "cell_type": "code",
      "source": [
        "r.search(\"abc\")  # \"abbc\", \"abbbc\", ... 가능"
      ],
      "metadata": {
        "colab": {
          "base_uri": "https://localhost:8080/"
        },
        "id": "XGZ2fr2ZYMjq",
        "outputId": "99e8d528-079c-4646-87c8-6356c490ba70"
      },
      "execution_count": 10,
      "outputs": [
        {
          "output_type": "execute_result",
          "data": {
            "text/plain": [
              "<re.Match object; span=(0, 3), match='abc'>"
            ]
          },
          "metadata": {},
          "execution_count": 10
        }
      ]
    },
    {
      "cell_type": "code",
      "source": [
        "r = re.compile(\"^ab\") # 문자열 ab로 시작되는 경우 매칭\n",
        "\n",
        "r.search(\"bbc\")# 아무런 결과도 출력되지 않는다."
      ],
      "metadata": {
        "id": "WTYw8W2eYXZK"
      },
      "execution_count": 11,
      "outputs": []
    },
    {
      "cell_type": "code",
      "source": [
        "r.search(\"abz\") # ab로 시작되는 모든 문자 매칭"
      ],
      "metadata": {
        "colab": {
          "base_uri": "https://localhost:8080/"
        },
        "id": "rMIDlw1ZYXfj",
        "outputId": "8db49e41-2488-4969-da86-a6700accd658"
      },
      "execution_count": 12,
      "outputs": [
        {
          "output_type": "execute_result",
          "data": {
            "text/plain": [
              "<re.Match object; span=(0, 2), match='ab'>"
            ]
          },
          "metadata": {},
          "execution_count": 12
        }
      ]
    },
    {
      "cell_type": "code",
      "source": [
        "r = re.compile(\"ab{2}c\") # a와 c 사이에 b가 2개인 문자열\n",
        "\n",
        "r.search(\"ac\")# 아무런 결과도 출력되지 않는다."
      ],
      "metadata": {
        "id": "PExCS37JY-GX"
      },
      "execution_count": 13,
      "outputs": []
    },
    {
      "cell_type": "code",
      "source": [
        "r.search(\"abbc\")"
      ],
      "metadata": {
        "colab": {
          "base_uri": "https://localhost:8080/"
        },
        "id": "80WojthoY-O7",
        "outputId": "4484ae67-52b9-4465-b678-34b41f9699a8"
      },
      "execution_count": 19,
      "outputs": [
        {
          "output_type": "execute_result",
          "data": {
            "text/plain": [
              "<re.Match object; span=(0, 4), match='abbc'>"
            ]
          },
          "metadata": {},
          "execution_count": 19
        }
      ]
    },
    {
      "cell_type": "code",
      "source": [
        "r = re.compile(\"ab{2,8}c\") # a와 c 사이에 b의 개수가 (2~8)개인 문자열\n",
        "\n",
        "r.search(\"ac\") # 아무런 결과도 출력되지 않는다."
      ],
      "metadata": {
        "id": "4RpksSiqZS_x"
      },
      "execution_count": 20,
      "outputs": []
    },
    {
      "cell_type": "code",
      "source": [
        "r.search(\"abbc\")"
      ],
      "metadata": {
        "colab": {
          "base_uri": "https://localhost:8080/"
        },
        "id": "wiRG4oruZTKb",
        "outputId": "e05969e5-2c45-4ad6-ae97-b70ad2c601ec"
      },
      "execution_count": 21,
      "outputs": [
        {
          "output_type": "execute_result",
          "data": {
            "text/plain": [
              "<re.Match object; span=(0, 4), match='abbc'>"
            ]
          },
          "metadata": {},
          "execution_count": 21
        }
      ]
    },
    {
      "cell_type": "code",
      "source": [
        "r = re.compile(\"a{2,}bc\") # a와 bc 사이에 a의 개수가 2개 이상인 문자열\n",
        "\n",
        "r.search(\"bc\") # 아무런 결과도 출력되지 않는다."
      ],
      "metadata": {
        "id": "E2ZpOANwZrlT"
      },
      "execution_count": 24,
      "outputs": []
    },
    {
      "cell_type": "code",
      "source": [
        "r.search(\"aaaaaaaabc\")"
      ],
      "metadata": {
        "colab": {
          "base_uri": "https://localhost:8080/"
        },
        "id": "E0xDuscPZrsF",
        "outputId": "ee8ba2a5-f4d0-4cdf-d276-b012160f4c26"
      },
      "execution_count": 28,
      "outputs": [
        {
          "output_type": "execute_result",
          "data": {
            "text/plain": [
              "<re.Match object; span=(0, 10), match='aaaaaaaabc'>"
            ]
          },
          "metadata": {},
          "execution_count": 28
        }
      ]
    },
    {
      "cell_type": "code",
      "source": [
        "r = re.compile(\"[abc]\") # [abc]는 [a-c]와 같다, a or b or c가 들어가있는 문자열\n",
        "r.search(\"zzz\") # 아무런 결과도 출력되지 않는다."
      ],
      "metadata": {
        "id": "WWoxkf-garLT"
      },
      "execution_count": 31,
      "outputs": []
    },
    {
      "cell_type": "code",
      "source": [
        "r.search(\"baac\")      "
      ],
      "metadata": {
        "colab": {
          "base_uri": "https://localhost:8080/"
        },
        "id": "cxZTa7OSarOG",
        "outputId": "973723f2-d50a-4d3e-9f0f-01b457002e50"
      },
      "execution_count": 32,
      "outputs": [
        {
          "output_type": "execute_result",
          "data": {
            "text/plain": [
              "<re.Match object; span=(0, 1), match='b'>"
            ]
          },
          "metadata": {},
          "execution_count": 32
        }
      ]
    },
    {
      "cell_type": "code",
      "source": [
        "r = re.compile(\"[a-z]\") # 소문자 a~z가 들어가있는 문자열\n",
        "r.search(\"AAA\") # 아무런 결과도 출력되지 않는다."
      ],
      "metadata": {
        "id": "-eFUTQr3a6j2"
      },
      "execution_count": 33,
      "outputs": []
    },
    {
      "cell_type": "code",
      "source": [
        "r.search(\"aBC\")"
      ],
      "metadata": {
        "colab": {
          "base_uri": "https://localhost:8080/"
        },
        "id": "jGlSd9bRa6rP",
        "outputId": "4b6e2219-3eb2-44e2-ef6d-2c7ec25838d0"
      },
      "execution_count": 34,
      "outputs": [
        {
          "output_type": "execute_result",
          "data": {
            "text/plain": [
              "<re.Match object; span=(0, 1), match='a'>"
            ]
          },
          "metadata": {},
          "execution_count": 34
        }
      ]
    },
    {
      "cell_type": "code",
      "source": [
        "r = re.compile(\"[^abc]\") # a or b or c가 들어가지 않은 문자열\n",
        "\n",
        "r.search(\"ab\") # 아무런 결과도 출력되지 않는다."
      ],
      "metadata": {
        "id": "C4haJSV4bE4B"
      },
      "execution_count": 35,
      "outputs": []
    },
    {
      "cell_type": "code",
      "source": [
        "r.search(\"1\")                             "
      ],
      "metadata": {
        "colab": {
          "base_uri": "https://localhost:8080/"
        },
        "id": "4mxxdkkGbE_x",
        "outputId": "ce79a0fb-ee47-45c2-b7b4-ac0c3dc6ce74"
      },
      "execution_count": 36,
      "outputs": [
        {
          "output_type": "execute_result",
          "data": {
            "text/plain": [
              "<re.Match object; span=(0, 1), match='1'>"
            ]
          },
          "metadata": {},
          "execution_count": 36
        }
      ]
    },
    {
      "cell_type": "code",
      "source": [
        "r = re.compile(\"ab.\")\n",
        "r.match(\"kkkabc\") # 아무런 결과도 출력되지 않는다.\n",
        "r.search(\"kkkabc\")  \n",
        "# match의 경우 문자열 중간에 찾을 패턴이 있더라도 시작에서 일치하지 않으면 찾지 않는다"
      ],
      "metadata": {
        "colab": {
          "base_uri": "https://localhost:8080/"
        },
        "id": "MTTMOi5abWvq",
        "outputId": "72bb93c4-195e-493e-8256-421b3a04cbd1"
      },
      "execution_count": 37,
      "outputs": [
        {
          "output_type": "execute_result",
          "data": {
            "text/plain": [
              "<re.Match object; span=(3, 6), match='abc'>"
            ]
          },
          "metadata": {},
          "execution_count": 37
        }
      ]
    },
    {
      "cell_type": "code",
      "source": [
        "# 공백 기준 분리\n",
        "text = \"사과 딸기 수박 메론 바나나\"\n",
        "re.split(\" \", text)"
      ],
      "metadata": {
        "colab": {
          "base_uri": "https://localhost:8080/"
        },
        "id": "cgTreIVYbtbg",
        "outputId": "7be87ce2-d156-4c92-9cf1-3c3f11013289"
      },
      "execution_count": 39,
      "outputs": [
        {
          "output_type": "execute_result",
          "data": {
            "text/plain": [
              "['사과', '딸기', '수박', '메론', '바나나']"
            ]
          },
          "metadata": {},
          "execution_count": 39
        }
      ]
    },
    {
      "cell_type": "code",
      "source": [
        "# '+'를 기준으로 분리\n",
        "text = \"사과+딸기+수박+메론+바나나\"\n",
        "\n",
        "re.split(\"\\+\", text)"
      ],
      "metadata": {
        "colab": {
          "base_uri": "https://localhost:8080/"
        },
        "id": "_ujYRKuwbwGr",
        "outputId": "928ec8a3-e875-462c-bd50-452ca8882ff6"
      },
      "execution_count": 40,
      "outputs": [
        {
          "output_type": "execute_result",
          "data": {
            "text/plain": [
              "['사과', '딸기', '수박', '메론', '바나나']"
            ]
          },
          "metadata": {},
          "execution_count": 40
        }
      ]
    },
    {
      "cell_type": "code",
      "source": [
        "text = \"\"\"100 John    PROF\n",
        "101 James   STUD\n",
        "102 Mac   STUD\"\"\"\n",
        "\n",
        "re.findall(\"\\d+\", text) # 숫자 데이터만 가져옴"
      ],
      "metadata": {
        "colab": {
          "base_uri": "https://localhost:8080/"
        },
        "id": "5gXfF3Ubbxb8",
        "outputId": "17a51eb3-cead-4f94-e0ab-881ea593cf3c"
      },
      "execution_count": 45,
      "outputs": [
        {
          "output_type": "execute_result",
          "data": {
            "text/plain": [
              "['100', '101', '102']"
            ]
          },
          "metadata": {},
          "execution_count": 45
        }
      ]
    },
    {
      "cell_type": "code",
      "source": [
        "re.split('\\s+', text)  # 공백을 찾아내는 정규표현식"
      ],
      "metadata": {
        "colab": {
          "base_uri": "https://localhost:8080/"
        },
        "id": "RRxvW0-fcKq6",
        "outputId": "12edd8bc-8946-41d9-8649-4f5318f87a66"
      },
      "execution_count": 46,
      "outputs": [
        {
          "output_type": "execute_result",
          "data": {
            "text/plain": [
              "['100', 'John', 'PROF', '101', 'James', 'STUD', '102', 'Mac', 'STUD']"
            ]
          },
          "metadata": {},
          "execution_count": 46
        }
      ]
    }
  ]
}