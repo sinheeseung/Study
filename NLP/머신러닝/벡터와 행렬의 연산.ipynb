{
  "nbformat": 4,
  "nbformat_minor": 0,
  "metadata": {
    "colab": {
      "name": "Untitled28.ipynb",
      "provenance": []
    },
    "kernelspec": {
      "name": "python3",
      "display_name": "Python 3"
    },
    "language_info": {
      "name": "python"
    }
  },
  "cells": [
    {
      "cell_type": "code",
      "execution_count": 2,
      "metadata": {
        "id": "BEOWAxSAhlT5"
      },
      "outputs": [],
      "source": [
        "import numpy as np"
      ]
    },
    {
      "cell_type": "code",
      "source": [
        "a = np.array([8,4,5])\n",
        "b = np.array([1,2,3])\n",
        "print('두 벡터의 합 :', a+b)\n",
        "print('두 벡터의 차 :', a-b)"
      ],
      "metadata": {
        "colab": {
          "base_uri": "https://localhost:8080/"
        },
        "id": "7plcMWG-hnbW",
        "outputId": "2e9d97af-71c9-421e-d24f-ce4ea26b285b"
      },
      "execution_count": 3,
      "outputs": [
        {
          "output_type": "stream",
          "name": "stdout",
          "text": [
            "두 벡터의 합 : [9 6 8]\n",
            "두 벡터의 차 : [7 2 2]\n"
          ]
        }
      ]
    },
    {
      "cell_type": "code",
      "source": [
        "a = np.array([[10,20,30,40],[50,60,70,80]])\n",
        "b = np.array([[5,6,7,8],[1,2,3,4]])\n",
        "print('두 행렬의 합 :')\n",
        "print(a + b)\n",
        "print('두 행렬의 차 :')\n",
        "print(a - b)"
      ],
      "metadata": {
        "colab": {
          "base_uri": "https://localhost:8080/"
        },
        "id": "D9F6DGHRh2IE",
        "outputId": "b1fde506-42fa-425b-d751-082897ee15cd"
      },
      "execution_count": 4,
      "outputs": [
        {
          "output_type": "stream",
          "name": "stdout",
          "text": [
            "두 행렬의 합 :\n",
            "[[15 26 37 48]\n",
            " [51 62 73 84]]\n",
            "두 행렬의 차 :\n",
            "[[ 5 14 23 32]\n",
            " [49 58 67 76]]\n"
          ]
        }
      ]
    },
    {
      "cell_type": "code",
      "source": [
        "a = np.array([1,2,3])\n",
        "b = np.array([4,5,6])\n",
        "print('두 벡터의 내적 :', np.dot(a,b))"
      ],
      "metadata": {
        "colab": {
          "base_uri": "https://localhost:8080/"
        },
        "id": "VM7a0aOfiL28",
        "outputId": "269503c1-ce8d-464b-baab-6e031022dca9"
      },
      "execution_count": 5,
      "outputs": [
        {
          "output_type": "stream",
          "name": "stdout",
          "text": [
            "두 벡터의 내적 : 32\n"
          ]
        }
      ]
    },
    {
      "cell_type": "code",
      "source": [
        "a = np.array([[1,3],[2,4]])\n",
        "b = np.array([[5,7],[6,8]])\n",
        "print('두 행렬의 행렬곱 :')\n",
        "print(np.matmul(a,b))"
      ],
      "metadata": {
        "colab": {
          "base_uri": "https://localhost:8080/"
        },
        "id": "kf-2exGViUgx",
        "outputId": "ab4d5821-a0a9-4a70-978d-312c3e3f783e"
      },
      "execution_count": 7,
      "outputs": [
        {
          "output_type": "stream",
          "name": "stdout",
          "text": [
            "두 행렬의 행렬곱 :\n",
            "[[23 31]\n",
            " [34 46]]\n"
          ]
        }
      ]
    }
  ]
}