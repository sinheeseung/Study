{
  "nbformat": 4,
  "nbformat_minor": 0,
  "metadata": {
    "colab": {
      "name": "Untitled27.ipynb",
      "provenance": []
    },
    "kernelspec": {
      "name": "python3",
      "display_name": "Python 3"
    },
    "language_info": {
      "name": "python"
    }
  },
  "cells": [
    {
      "cell_type": "code",
      "execution_count": 1,
      "metadata": {
        "id": "mJOdp3lWfNOK"
      },
      "outputs": [],
      "source": [
        "import numpy as np"
      ]
    },
    {
      "cell_type": "code",
      "source": [
        "# 0차원 텐서(스칼라)\n",
        "d = np.array(5)\n",
        "print('텐서의 차원 :', d.ndim)\n",
        "print('첸서의 크기(shape) :',d.shape)"
      ],
      "metadata": {
        "colab": {
          "base_uri": "https://localhost:8080/"
        },
        "id": "5UVRbVoIfziK",
        "outputId": "7a08d793-626c-43ae-e082-a81df71f0349"
      },
      "execution_count": 3,
      "outputs": [
        {
          "output_type": "stream",
          "name": "stdout",
          "text": [
            "텐서의 차원 : 0\n",
            "첸서의 크기(shape) : ()\n"
          ]
        }
      ]
    },
    {
      "cell_type": "code",
      "source": [
        "# 1차원 텐서(벡터), 4차원 벡터\n",
        "d = np.array([1,2,3,4])\n",
        "print('텐서의 차원 :', d.ndim)\n",
        "print('텐서의 크기(shape) :', d.shape)"
      ],
      "metadata": {
        "colab": {
          "base_uri": "https://localhost:8080/"
        },
        "id": "KwP_ttI9gHuW",
        "outputId": "74fda47b-f255-4f6f-de0d-89c9d577b97d"
      },
      "execution_count": 5,
      "outputs": [
        {
          "output_type": "stream",
          "name": "stdout",
          "text": [
            "텐서의 차원 : 1\n",
            "텐서의 크기(shape) : (4,)\n"
          ]
        }
      ]
    },
    {
      "cell_type": "code",
      "source": [
        "# 2차원 텐서(행렬)\n",
        "# 3행 4열의 행렬\n",
        "d = np.array([[1,2,3,4],[5,6,7,8],[9,10,11,12]])\n",
        "print('텐서의 차원 :', d.ndim)\n",
        "print('텐서의 크기(shape) :', d.shape)"
      ],
      "metadata": {
        "colab": {
          "base_uri": "https://localhost:8080/"
        },
        "id": "1TZFwhm3gchB",
        "outputId": "19cd5e13-c3fe-4384-987e-352da735723b"
      },
      "execution_count": 6,
      "outputs": [
        {
          "output_type": "stream",
          "name": "stdout",
          "text": [
            "텐서의 차원 : 2\n",
            "텐서의 크기(shape) : (3, 4)\n"
          ]
        }
      ]
    },
    {
      "cell_type": "code",
      "source": [
        "# 3차원 텐서(다차원 배열)\n",
        "d = np.array([\n",
        "            [[1, 2, 3, 4, 5], [6, 7, 8, 9, 10], [10, 11, 12, 13, 14]],\n",
        "            [[15, 16, 17, 18, 19], [19, 20, 21, 22, 23], [23, 24, 25, 26, 27]]\n",
        "            ])\n",
        "print('텐서의 차원 :',d.ndim)\n",
        "print('텐서의 크기(shape) :',d.shape)"
      ],
      "metadata": {
        "colab": {
          "base_uri": "https://localhost:8080/"
        },
        "id": "a7foxaEMgzRW",
        "outputId": "82abd08e-b408-43de-8d71-c8f1a1914f25"
      },
      "execution_count": 7,
      "outputs": [
        {
          "output_type": "stream",
          "name": "stdout",
          "text": [
            "텐서의 차원 : 3\n",
            "텐서의 크기(shape) : (2, 3, 5)\n"
          ]
        }
      ]
    }
  ]
}