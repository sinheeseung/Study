{
  "nbformat": 4,
  "nbformat_minor": 0,
  "metadata": {
    "colab": {
      "name": "Untitled22.ipynb",
      "provenance": []
    },
    "kernelspec": {
      "name": "python3",
      "display_name": "Python 3"
    },
    "language_info": {
      "name": "python"
    }
  },
  "cells": [
    {
      "cell_type": "code",
      "execution_count": null,
      "metadata": {
        "id": "9LuA0g7QXF8Z"
      },
      "outputs": [],
      "source": [
        "import tensorflow as tf"
      ]
    },
    {
      "cell_type": "code",
      "source": [
        "#  학습될 가중치 변수를 선언\n",
        "w = tf.Variable(4.0)\n",
        "b = tf.Variable(1.0)"
      ],
      "metadata": {
        "id": "QPT2AL57XHTq"
      },
      "execution_count": null,
      "outputs": []
    },
    {
      "cell_type": "code",
      "source": [
        "# 가설을 함수로서 정의\n",
        "@tf.function\n",
        "def hypothesis(x):\n",
        "  return w*x + b"
      ],
      "metadata": {
        "id": "Uejto-cwXNtY"
      },
      "execution_count": null,
      "outputs": []
    },
    {
      "cell_type": "code",
      "source": [
        "# 현재의 가설인 w = 4, b = 1일때의 결과\n",
        "x_test = [3.5,5,5.5,6]\n",
        "print(hypothesis(x_test).numpy())"
      ],
      "metadata": {
        "colab": {
          "base_uri": "https://localhost:8080/"
        },
        "id": "RrOqWPaBXWsS",
        "outputId": "547df09f-28bb-424b-acc8-1e875572554c"
      },
      "execution_count": null,
      "outputs": [
        {
          "output_type": "stream",
          "name": "stdout",
          "text": [
            "[15. 21. 23. 25.]\n"
          ]
        }
      ]
    },
    {
      "cell_type": "code",
      "source": [
        "@tf.function\n",
        "def mse_loss(y_pred, y):\n",
        "  # 두 개의 차이값을 제곱을 해서 평균을 취한다\n",
        "  return tf.reduce_mean(tf.square(y_pred - y))"
      ],
      "metadata": {
        "id": "Vm5OyAP4XqlJ"
      },
      "execution_count": null,
      "outputs": []
    },
    {
      "cell_type": "code",
      "source": [
        "# 데이터\n",
        "x = [1, 2, 3, 4, 5, 6, 7, 8, 9] # 공부하는 시간\n",
        "y = [11, 22, 33, 44, 53, 66, 77, 87, 95] # 각 공부하는 시간에 맵핑되는 성적"
      ],
      "metadata": {
        "id": "IW1OGFgTYCo1"
      },
      "execution_count": null,
      "outputs": []
    },
    {
      "cell_type": "code",
      "source": [
        "# 옵티마이저는 경사하강법 사용, 학습률 0.01\n",
        "optimizer = tf.optimizers.SGD(0.01)"
      ],
      "metadata": {
        "id": "gNsEdpFHYGRQ"
      },
      "execution_count": null,
      "outputs": []
    },
    {
      "cell_type": "code",
      "source": [
        "# 300번에 걸쳐서 경사 하강법 수행\n",
        "for i in range(301):\n",
        "  with tf.GradientTape() as tape:\n",
        "    # 연산 코드 tape에 저장 (역전파 알고리즘에 사용)\n",
        "\n",
        "    # 현재 파라미터에 기반한 입력 x에 대한 예측값\n",
        "    y_pred = hypothesis(x)\n",
        "\n",
        "    # 평균 제곱 오차 계산\n",
        "    cost = mse_loss(y_pred, y)\n",
        "\n",
        "  # 손실 함수에 대한 파라미터의 미분값 계산\n",
        "  gradient = tape.gradient(cost, [w,b])\n",
        "\n",
        "  # 파라미터 업데이트\n",
        "  optimizer.apply_gradients(zip(gradient, [w,b]))\n",
        "\n",
        "  if i % 10 == 0:\n",
        "    print(\"epoch : {:3} | w의 값 : {:5.4f} | b의 값 : {:5.4} | cost : {:5.6f}\".format(i, w.numpy(), b.numpy(), cost))\n",
        "    # w와 b의 값이 업데이트 됨에 따라 cost가 지속적으로 줄어듬"
      ],
      "metadata": {
        "colab": {
          "base_uri": "https://localhost:8080/"
        },
        "id": "dXp-UJZlYbz8",
        "outputId": "33170581-d5fd-4311-d190-fb3470d0cb32"
      },
      "execution_count": null,
      "outputs": [
        {
          "output_type": "stream",
          "name": "stdout",
          "text": [
            "epoch :   0 | w의 값 : 8.2133 | b의 값 : 1.664 | cost : 1402.555542\n",
            "epoch :  10 | w의 값 : 10.4971 | b의 값 : 1.977 | cost : 1.351182\n",
            "epoch :  20 | w의 값 : 10.5047 | b의 값 :  1.93 | cost : 1.328163\n",
            "epoch :  30 | w의 값 : 10.5119 | b의 값 : 1.884 | cost : 1.306966\n",
            "epoch :  40 | w의 값 : 10.5188 | b의 값 : 1.841 | cost : 1.287436\n",
            "epoch :  50 | w의 값 : 10.5254 | b의 값 : 1.799 | cost : 1.269459\n",
            "epoch :  60 | w의 값 : 10.5318 | b의 값 : 1.759 | cost : 1.252897\n",
            "epoch :  70 | w의 값 : 10.5379 | b의 값 : 1.721 | cost : 1.237644\n",
            "epoch :  80 | w의 값 : 10.5438 | b의 값 : 1.684 | cost : 1.223597\n",
            "epoch :  90 | w의 값 : 10.5494 | b의 값 : 1.648 | cost : 1.210658\n",
            "epoch : 100 | w의 값 : 10.5548 | b의 값 : 1.614 | cost : 1.198740\n",
            "epoch : 110 | w의 값 : 10.5600 | b의 값 : 1.582 | cost : 1.187767\n",
            "epoch : 120 | w의 값 : 10.5650 | b의 값 :  1.55 | cost : 1.177665\n",
            "epoch : 130 | w의 값 : 10.5697 | b의 값 :  1.52 | cost : 1.168354\n",
            "epoch : 140 | w의 값 : 10.5743 | b의 값 : 1.492 | cost : 1.159782\n",
            "epoch : 150 | w의 값 : 10.5787 | b의 값 : 1.464 | cost : 1.151890\n",
            "epoch : 160 | w의 값 : 10.5829 | b의 값 : 1.437 | cost : 1.144619\n",
            "epoch : 170 | w의 값 : 10.5870 | b의 값 : 1.412 | cost : 1.137924\n",
            "epoch : 180 | w의 값 : 10.5909 | b의 값 : 1.387 | cost : 1.131752\n",
            "epoch : 190 | w의 값 : 10.5946 | b의 값 : 1.364 | cost : 1.126073\n",
            "epoch : 200 | w의 값 : 10.5982 | b의 값 : 1.341 | cost : 1.120843\n",
            "epoch : 210 | w의 값 : 10.6016 | b의 값 :  1.32 | cost : 1.116026\n",
            "epoch : 220 | w의 값 : 10.6049 | b의 값 : 1.299 | cost : 1.111589\n",
            "epoch : 230 | w의 값 : 10.6081 | b의 값 : 1.279 | cost : 1.107504\n",
            "epoch : 240 | w의 값 : 10.6111 | b의 값 :  1.26 | cost : 1.103736\n",
            "epoch : 250 | w의 값 : 10.6140 | b의 값 : 1.242 | cost : 1.100273\n",
            "epoch : 260 | w의 값 : 10.6168 | b의 값 : 1.224 | cost : 1.097082\n",
            "epoch : 270 | w의 값 : 10.6195 | b의 값 : 1.207 | cost : 1.094143\n",
            "epoch : 280 | w의 값 : 10.6221 | b의 값 : 1.191 | cost : 1.091434\n",
            "epoch : 290 | w의 값 : 10.6245 | b의 값 : 1.176 | cost : 1.088940\n",
            "epoch : 300 | w의 값 : 10.6269 | b의 값 : 1.161 | cost : 1.086645\n"
          ]
        }
      ]
    },
    {
      "cell_type": "code",
      "source": [
        "# 학습된 w와 b의 값에 대해서 임의 입력을 넣은 경우\n",
        "x_test = [3.5, 5, 5.5, 6]\n",
        "print(hypothesis(x_test).numpy())"
      ],
      "metadata": {
        "colab": {
          "base_uri": "https://localhost:8080/"
        },
        "id": "nJILryn9bkS6",
        "outputId": "0134a991-9a27-4df8-cee8-fe9051dfbcf5"
      },
      "execution_count": null,
      "outputs": [
        {
          "output_type": "stream",
          "name": "stdout",
          "text": [
            "[38.35479  54.295143 59.608593 64.92204 ]\n"
          ]
        }
      ]
    },
    {
      "cell_type": "code",
      "source": [
        "# 케라스로 구현하는 선형 회귀"
      ],
      "metadata": {
        "id": "IxCIBk0kfBXG"
      },
      "execution_count": null,
      "outputs": []
    },
    {
      "cell_type": "code",
      "source": [
        "import numpy as np\n",
        "import matplotlib.pyplot as plt\n",
        "from tensorflow.keras.models import Sequential\n",
        "from tensorflow.keras.layers import Dense\n",
        "from tensorflow.keras import optimizers"
      ],
      "metadata": {
        "id": "Dngo4RNWfD7j"
      },
      "execution_count": null,
      "outputs": []
    },
    {
      "cell_type": "code",
      "source": [
        "x = [1, 2, 3, 4, 5, 6, 7, 8, 9] # 공부하는 시간\n",
        "y = [11, 22, 33, 44, 53, 66, 77, 87, 95] # 각 공부하는 시간에 맵핑되는 성적"
      ],
      "metadata": {
        "id": "RsjUnp7FfcPw"
      },
      "execution_count": null,
      "outputs": []
    },
    {
      "cell_type": "code",
      "source": [
        "model = Sequential()\n",
        "# 출력 y의 차원은 1. 입력 x의 차원(input_dim)은 1\n",
        "# 선형 회귀이므로 activation은 'linear'\n",
        "model.add(Dense(1, input_dim=1, activation='linear'))\n",
        "\n",
        "# sgd는 경사 하강법을 의미. 학습률(learning rate, lr)은 0.01.\n",
        "sgd = optimizers.SGD(lr=0.01)\n",
        "\n",
        "# 손실 함수(Loss function)은 평균제곱오차 mse를 사용합니다.\n",
        "model.compile(optimizer=sgd, loss='mse', metrics=['mse'])\n",
        "\n",
        "# 주어진 x와 y데이터에 대해서 오차를 최소화하는 작업을 300번 시도합니다.\n",
        "model.fit(x, y, epochs=300)"
      ],
      "metadata": {
        "id": "gtInRRbqfeSt"
      },
      "execution_count": null,
      "outputs": []
    },
    {
      "cell_type": "code",
      "source": [
        "plt.plot(x, model.predict(x), 'b', x, y, 'k.')"
      ],
      "metadata": {
        "colab": {
          "base_uri": "https://localhost:8080/",
          "height": 304
        },
        "id": "LB6x-DKmfscD",
        "outputId": "dc815138-1f61-4f40-9988-d296ed1e599d"
      },
      "execution_count": null,
      "outputs": [
        {
          "output_type": "execute_result",
          "data": {
            "text/plain": [
              "[<matplotlib.lines.Line2D at 0x7f2ac3fbbc10>,\n",
              " <matplotlib.lines.Line2D at 0x7f2ac3ebead0>]"
            ]
          },
          "metadata": {},
          "execution_count": 30
        },
        {
          "output_type": "display_data",
          "data": {
            "text/plain": [
              "<Figure size 432x288 with 1 Axes>"
            ],
            "image/png": "[encoded data removed]"
          },
          "metadata": {
            "needs_background": "light"
          }
        }
      ]
    },
    {
      "cell_type": "code",
      "source": [
        "print(model.predict([9.5]))\n",
        "# 9시간 30분을 공부했을 때 성적 예측"
      ],
      "metadata": {
        "colab": {
          "base_uri": "https://localhost:8080/"
        },
        "id": "oSMFYa_xf0kh",
        "outputId": "f14d5d54-fd18-4d1b-9f71-b194a44e87a8"
      },
      "execution_count": null,
      "outputs": [
        {
          "output_type": "stream",
          "name": "stdout",
          "text": [
            "[[102.20445]]\n"
          ]
        }
      ]
    }
  ]
}