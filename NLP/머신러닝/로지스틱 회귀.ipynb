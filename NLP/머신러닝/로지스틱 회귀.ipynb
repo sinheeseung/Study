{
  "nbformat": 4,
  "nbformat_minor": 0,
  "metadata": {
    "colab": {
      "name": "Untitled24.ipynb",
      "provenance": []
    },
    "kernelspec": {
      "name": "python3",
      "display_name": "Python 3"
    },
    "language_info": {
      "name": "python"
    }
  },
  "cells": [
    {
      "cell_type": "code",
      "execution_count": 1,
      "metadata": {
        "id": "aC8_ht9HZWQl"
      },
      "outputs": [],
      "source": [
        "import numpy as np\n",
        "import matplotlib.pyplot as plt\n",
        "from tensorflow.keras.models import Sequential\n",
        "from tensorflow.keras.layers import Dense\n",
        "from tensorflow.keras import optimizers"
      ]
    },
    {
      "cell_type": "code",
      "source": [
        "x = np.array([-50, -40, -30, -20, -10, -5, 0, 5, 10, 20, 30, 40, 50])\n",
        "y = np.array([0, 0, 0, 0, 0, 0, 0, 0, 1, 1, 1, 1, 1]) # 숫자 10 이상인 경우 1 부여"
      ],
      "metadata": {
        "id": "RqXVUkB6a_mc"
      },
      "execution_count": 2,
      "outputs": []
    },
    {
      "cell_type": "code",
      "source": [
        "model = Sequential()\n",
        "model.add(Dense(1, input_dim=1, activation = 'sigmoid')) # 1개의 실수 x로부터 1개의 실수 y를 예측하므로 output_dim, input_dim 모두 1\n",
        "\n",
        "sgd = optimizers.SGD(lr = 0.01) # optimizer로 경사하강법 사용\n",
        "model.compile(optimizer=sgd, loss = 'binary_crossentropy', metrics = ['binary_accuracy']) # 손실 함수로 크로스 엔트로피 사용\n",
        "\n",
        "model.fit(x, y, epochs = 200)"
      ],
      "metadata": {
        "id": "dWknU22-bFHX"
      },
      "execution_count": null,
      "outputs": []
    },
    {
      "cell_type": "code",
      "source": [
        "plt.plot(x, model.predict(x), 'b', x,y, 'k.')"
      ],
      "metadata": {
        "colab": {
          "base_uri": "https://localhost:8080/",
          "height": 302
        },
        "id": "4bgWBABKblsN",
        "outputId": "7b7b2fd7-695d-4bbb-d18b-cf5c20706887"
      },
      "execution_count": 5,
      "outputs": [
        {
          "output_type": "execute_result",
          "data": {
            "text/plain": [
              "[<matplotlib.lines.Line2D at 0x7fbc5dec3690>,\n",
              " <matplotlib.lines.Line2D at 0x7fbc5f6ff7d0>]"
            ]
          },
          "metadata": {},
          "execution_count": 5
        },
        {
          "output_type": "display_data",
          "data": {
            "text/plain": [
              "<Figure size 432x288 with 1 Axes>"
            ],
            "image/png": "[encoded data removed]"
          },
          "metadata": {
            "needs_background": "light"
          }
        }
      ]
    },
    {
      "cell_type": "code",
      "source": [
        "print(model.predict([1, 2, 3, 4, 4.5]))\n",
        "print(model.predict([11, 21, 31, 41, 500]))\n",
        "# x의 값이 5보다 작을 때는 0.5보다 작은 값, x의 값이 5보다 클 때는 0.5보다 큰 값"
      ],
      "metadata": {
        "colab": {
          "base_uri": "https://localhost:8080/"
        },
        "id": "bouXDhIccjXI",
        "outputId": "688ce0f7-ece5-4401-b2b8-7bc2b8ba4bda"
      },
      "execution_count": 6,
      "outputs": [
        {
          "output_type": "stream",
          "name": "stdout",
          "text": [
            "[[0.5015885 ]\n",
            " [0.5570828 ]\n",
            " [0.6111878 ]\n",
            " [0.66268545]\n",
            " [0.687138  ]]\n",
            "[[0.9034468 ]\n",
            " [0.98863614]\n",
            " [0.9987653 ]\n",
            " [0.99986696]\n",
            " [1.        ]]\n"
          ]
        }
      ]
    }
  ]
}