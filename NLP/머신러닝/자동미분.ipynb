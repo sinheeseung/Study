{
  "nbformat": 4,
  "nbformat_minor": 0,
  "metadata": {
    "colab": {
      "name": "Untitled21.ipynb",
      "provenance": []
    },
    "kernelspec": {
      "name": "python3",
      "display_name": "Python 3"
    },
    "language_info": {
      "name": "python"
    }
  },
  "cells": [
    {
      "cell_type": "code",
      "execution_count": null,
      "metadata": {
        "id": "psWeYrGAUEzF"
      },
      "outputs": [],
      "source": [
        "import tensorflow as tf"
      ]
    },
    {
      "cell_type": "code",
      "source": [
        "w = tf.Variable(2.) # 변수 w 정의\n",
        "\n",
        "def f(w):\n",
        "  # 함수 f 정의\n",
        "  y = w**2\n",
        "  z = 2*y + 5\n",
        "  return z"
      ],
      "metadata": {
        "id": "L7_OrUDVUH-T"
      },
      "execution_count": null,
      "outputs": []
    },
    {
      "cell_type": "code",
      "source": [
        "with tf.GradientTape() as tape:\n",
        "  # tf.GeadientTape 블록을 만들어 관련된 연산을 기록\n",
        "  z = f(w)\n",
        "\n",
        "gradient = tape.gradient(z, [w]) # 그래디언트 확인\n",
        "print(gradient)"
      ],
      "metadata": {
        "colab": {
          "base_uri": "https://localhost:8080/"
        },
        "id": "qboF5HtSUSOo",
        "outputId": "f6eb4e58-56f5-47a3-8d0b-8153a3114ff2"
      },
      "execution_count": null,
      "outputs": [
        {
          "output_type": "stream",
          "name": "stdout",
          "text": [
            "[<tf.Tensor: shape=(), dtype=float32, numpy=8.0>]\n"
          ]
        }
      ]
    }
  ]
}