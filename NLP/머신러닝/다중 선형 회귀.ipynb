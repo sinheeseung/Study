{
  "nbformat": 4,
  "nbformat_minor": 0,
  "metadata": {
    "colab": {
      "name": "Untitled25.ipynb",
      "provenance": []
    },
    "kernelspec": {
      "name": "python3",
      "display_name": "Python 3"
    },
    "language_info": {
      "name": "python"
    }
  },
  "cells": [
    {
      "cell_type": "code",
      "execution_count": 1,
      "metadata": {
        "id": "07O_iOdodZiC"
      },
      "outputs": [],
      "source": [
        "import numpy as np\n",
        "from tensorflow.keras.models import Sequential\n",
        "from tensorflow.keras.layers import Dense\n",
        "from tensorflow.keras import optimizers"
      ]
    },
    {
      "cell_type": "code",
      "source": [
        "# 중간 고사, 기말 고사, 가산점 점수\n",
        "x = np.array([[70,85,11],[71,89,18],[50,80,20],[99,20,10],[50,10,10]])\n",
        "y = np.array([73, 82, 72, 57, 34]) # 최종 성적"
      ],
      "metadata": {
        "id": "WlCzi6KKonpY"
      },
      "execution_count": 3,
      "outputs": []
    },
    {
      "cell_type": "code",
      "source": [
        "model = Sequential()\n",
        "model.add(Dense(1, input_dim =3, activation = 'linear'))\n",
        "\n",
        "sgd = optimizers.SGD(lr = 0.0001)\n",
        "model.compile(optimizer=sgd, loss = 'mse', metrics=['mse'])\n",
        "model.fit(x, y, epochs = 2000)"
      ],
      "metadata": {
        "id": "q-z8VrY_o1mF"
      },
      "execution_count": null,
      "outputs": []
    },
    {
      "cell_type": "code",
      "source": [
        "print(model.predict(x))"
      ],
      "metadata": {
        "colab": {
          "base_uri": "https://localhost:8080/"
        },
        "id": "GXL9BOzDpMc0",
        "outputId": "10c59390-3d72-4d33-ae6f-0501836ba889"
      },
      "execution_count": 6,
      "outputs": [
        {
          "output_type": "stream",
          "name": "stdout",
          "text": [
            "[[72.91923 ]\n",
            " [81.98099 ]\n",
            " [72.10192 ]\n",
            " [57.120144]\n",
            " [33.800323]]\n"
          ]
        }
      ]
    },
    {
      "cell_type": "code",
      "source": [
        "# test 테이터를 통한 예측 각각 58, 56점임\n",
        "x_test = np.array([[20,99,10], [40,50,20]])\n",
        "print(model.predict(x_test))"
      ],
      "metadata": {
        "colab": {
          "base_uri": "https://localhost:8080/"
        },
        "id": "jgbuLhAOppep",
        "outputId": "269a1563-6762-4a2c-afce-d9c066969759"
      },
      "execution_count": 8,
      "outputs": [
        {
          "output_type": "stream",
          "name": "stdout",
          "text": [
            "[[57.87411 ]\n",
            " [56.070248]]\n"
          ]
        }
      ]
    }
  ]
}