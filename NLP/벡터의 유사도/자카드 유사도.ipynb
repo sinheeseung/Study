{
  "nbformat": 4,
  "nbformat_minor": 0,
  "metadata": {
    "colab": {
      "name": "Untitled20.ipynb",
      "provenance": []
    },
    "kernelspec": {
      "name": "python3",
      "display_name": "Python 3"
    },
    "language_info": {
      "name": "python"
    }
  },
  "cells": [
    {
      "cell_type": "code",
      "execution_count": 1,
      "metadata": {
        "id": "f1nkefHYNHW9"
      },
      "outputs": [],
      "source": [
        "# 자카드 유사도\n",
        "# 두 개의 집합이 있다고 했을 때 두 집합의 합집합에서 교집합의 비율을 구한것"
      ]
    },
    {
      "cell_type": "code",
      "source": [
        "doc1 = \"apple banana everyone like likey watch card holder\"\n",
        "doc2 = \"apple banana coupon passport love you\""
      ],
      "metadata": {
        "id": "6h19YpALNS5q"
      },
      "execution_count": 2,
      "outputs": []
    },
    {
      "cell_type": "code",
      "source": [
        "# 띄어쓰기 단위로 토큰화\n",
        "tokenized_doc1 = doc1.split()\n",
        "tokenized_doc2 = doc2.split()"
      ],
      "metadata": {
        "id": "smaW-0uVNVs4"
      },
      "execution_count": 3,
      "outputs": []
    },
    {
      "cell_type": "code",
      "source": [
        "print('문서1 :', tokenized_doc1)\n",
        "print('문서2 :', tokenized_doc2)"
      ],
      "metadata": {
        "colab": {
          "base_uri": "https://localhost:8080/"
        },
        "id": "m4ahvk_QNecW",
        "outputId": "14e6f57f-f71b-4414-ec99-bf5ffa68b832"
      },
      "execution_count": 4,
      "outputs": [
        {
          "output_type": "stream",
          "name": "stdout",
          "text": [
            "문서1 : ['apple', 'banana', 'everyone', 'like', 'likey', 'watch', 'card', 'holder']\n",
            "문서2 : ['apple', 'banana', 'coupon', 'passport', 'love', 'you']\n"
          ]
        }
      ]
    },
    {
      "cell_type": "code",
      "source": [
        "union = set(tokenized_doc1).union(set(tokenized_doc2))\n",
        "print('문서1과 문서2의 합집합 :', union)"
      ],
      "metadata": {
        "colab": {
          "base_uri": "https://localhost:8080/"
        },
        "id": "WeUuElusNqmp",
        "outputId": "a1fb8af6-fcc2-46ab-c905-e5735a31fe5a"
      },
      "execution_count": 5,
      "outputs": [
        {
          "output_type": "stream",
          "name": "stdout",
          "text": [
            "문서1과 문서2의 합집합 : {'watch', 'you', 'like', 'passport', 'card', 'likey', 'coupon', 'banana', 'love', 'apple', 'holder', 'everyone'}\n"
          ]
        }
      ]
    },
    {
      "cell_type": "code",
      "source": [
        "intersection = set(tokenized_doc2).intersection(set(tokenized_doc1))\n",
        "print('문서1과 문서2의 교집합 :',intersection)"
      ],
      "metadata": {
        "colab": {
          "base_uri": "https://localhost:8080/"
        },
        "id": "qPvznalAN3mj",
        "outputId": "bdcbf464-9746-4af4-fdea-45de54c93638"
      },
      "execution_count": 6,
      "outputs": [
        {
          "output_type": "stream",
          "name": "stdout",
          "text": [
            "문서1과 문서2의 교집합 : {'banana', 'apple'}\n"
          ]
        }
      ]
    },
    {
      "cell_type": "code",
      "source": [
        "print('자카드 유사도 :', len(intersection)/len(union))"
      ],
      "metadata": {
        "colab": {
          "base_uri": "https://localhost:8080/"
        },
        "id": "aWG4T6TSOB4D",
        "outputId": "f6aaf3f9-106a-4109-b1f5-db60f57dfdf9"
      },
      "execution_count": 7,
      "outputs": [
        {
          "output_type": "stream",
          "name": "stdout",
          "text": [
            "자카드 유사도 : 0.16666666666666666\n"
          ]
        }
      ]
    }
  ]
}