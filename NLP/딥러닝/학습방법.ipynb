{
  "nbformat": 4,
  "nbformat_minor": 0,
  "metadata": {
    "colab": {
      "name": "Untitled34.ipynb",
      "provenance": [],
      "collapsed_sections": []
    },
    "kernelspec": {
      "name": "python3",
      "display_name": "Python 3"
    },
    "language_info": {
      "name": "python"
    }
  },
  "cells": [
    {
      "cell_type": "code",
      "execution_count": null,
      "metadata": {
        "id": "71ZFOoeDaB1Z"
      },
      "outputs": [],
      "source": [
        "# 손실함수"
      ]
    },
    {
      "cell_type": "code",
      "source": [
        "# MSE(Mean Squared Error)\n",
        "# 연속형 변수를 예측할 때 사용\n",
        "model.compile(optimizer='adam', loss='mse', metrics=['mse'])\n",
        "model.compile(optimizer='adam', loss=tf.keras.losses.MeanSquaredError(), metrics=['mse'])"
      ],
      "metadata": {
        "id": "rTcT-7FBkDnH"
      },
      "execution_count": null,
      "outputs": []
    },
    {
      "cell_type": "code",
      "source": [
        "# 이진 크로스 엔트로피(Binary Cross-Entropy)\n",
        "# 출력층에서 시그모이드 함수를 사용하는 이진 분류의 경우 사용\n",
        "model.compile(loss='binary_crossentropy', optimizer='adam', metrics=['acc'])\n",
        "model.compile(loss=tf.keras.losses.BinaryCrossentropy(), optimizer='adam', metrics=['acc'])"
      ],
      "metadata": {
        "id": "M7jEwkNDkKz6"
      },
      "execution_count": null,
      "outputs": []
    },
    {
      "cell_type": "code",
      "source": [
        "# 카테고리칼 크로스 엔트로피(Categorical Cross-Entropy)\n",
        "# 출력층에서 소프트맥스 함수를 사용하는 다중 클래스 분류일 경우 사용\n",
        "model.compile(loss='categorical_crossentropy', optimizer='adam', metrics=['acc'])\n",
        "model.compile(loss=tf.keras.losses.CategoricalCrossentropy(), optimizer='adam', metrics=['acc'])\n",
        "\n",
        "# 원-핫 인코딩 생략\n",
        "model.compile(loss='sparse_categorical_crossentropy', optimizer='adam', metrics=['acc'])\n",
        "model.compile(loss=tf.keras.losses.SparseCategoricalCrossentropy(), optimizer='adam', metrics=['acc'])"
      ],
      "metadata": {
        "id": "BLUXvJkBkRaG"
      },
      "execution_count": null,
      "outputs": []
    },
    {
      "cell_type": "code",
      "source": [
        "# 배치 크기에 따른 경사 하강법"
      ],
      "metadata": {
        "id": "XrkwfmP9ksg0"
      },
      "execution_count": null,
      "outputs": []
    },
    {
      "cell_type": "code",
      "source": [
        "# 배치 경사 하강법\n",
        "# 한 번의 에포크에 모든 매개변수 업데이트 한 번 수행\n",
        "model.fit(X_train, y_train, batch_size=len(X_train))"
      ],
      "metadata": {
        "id": "ic8iwn8Wkvfg"
      },
      "execution_count": null,
      "outputs": []
    },
    {
      "cell_type": "code",
      "source": [
        "# 배치 크기 1인 경사하강법\n",
        "# 배치 경사 하강법보다 속도가 빠르고 정확도 낮음\n",
        "model.fit(X_train, y_train, batch_size=1)"
      ],
      "metadata": {
        "id": "CofbM8kTk0US"
      },
      "execution_count": null,
      "outputs": []
    },
    {
      "cell_type": "code",
      "source": [
        "# 미니 배치 경사 하강법\n",
        "# 배치 크기를 지정하여 수행\n",
        "model.fit(X_train, y_train, batch_size=128)"
      ],
      "metadata": {
        "id": "Cs0lFU6FlBuG"
      },
      "execution_count": null,
      "outputs": []
    },
    {
      "cell_type": "code",
      "source": [
        "# 옵티마이저"
      ],
      "metadata": {
        "id": "vk5ZDzsPlT3o"
      },
      "execution_count": null,
      "outputs": []
    },
    {
      "cell_type": "code",
      "source": [
        "# 모멘텀\n",
        "# 경사 하강법에서 계산된 접선의 기울기에 한 시점 전의 접선의 기울기값을 일정한 비율로 반영\n",
        "# 로컬미니멈에서 탈출 가능하게 해줌\n",
        "tf.keras.optimizers.SGD(lr=0.01, momentum=0.9)"
      ],
      "metadata": {
        "id": "K_czaF-VlVRn"
      },
      "execution_count": null,
      "outputs": []
    },
    {
      "cell_type": "code",
      "source": [
        "# 아다그라드\n",
        "# 각 매개변수마다 서로 다른 학습률 적용\n",
        "# 변화가 많은 매개변수는 학습률 작게, 적은 매개변수는 학습률 크게\n",
        "tf.keras.optimizers.Adagrad(lr=0.01, epsilon=1e-6)"
      ],
      "metadata": {
        "id": "du9kVcsvlhxU"
      },
      "execution_count": null,
      "outputs": []
    },
    {
      "cell_type": "code",
      "source": [
        "# 알엠에스프롭\n",
        "# 아다그라드가 학습률이 지나치게 떨어진다는 단점 개선\n",
        "tf.keras.optimizers.RMSprop(lr=0.001, rho=0.9, epsilon=1e-06)"
      ],
      "metadata": {
        "id": "IMy48BpVlsfg"
      },
      "execution_count": null,
      "outputs": []
    },
    {
      "cell_type": "code",
      "source": [
        "# 아담\n",
        "# 모멘텀 + 알엠에스프롭\n",
        "tf.keras.optimizers.Adam(lr=0.001, beta_1=0.9, beta_2=0.999, epsilon=None, decay=0.0, amsgrad=False)"
      ],
      "metadata": {
        "id": "mZz50dSel1Bj"
      },
      "execution_count": null,
      "outputs": []
    },
    {
      "cell_type": "code",
      "source": [
        "# 아래와 같이 사용\n",
        "adam = tf.keras.optimizers.Adam(lr=0.001, beta_1=0.9, beta_2=0.999, epsilon=None, decay=0.0, amsgrad=False)\n",
        "model.compile(loss='categorical_crossentropy', optimizer=adam, metrics=['acc'])\n",
        "\n",
        "model.compile(loss='categorical_crossentropy', optimizer='adam', metrics=['acc'])"
      ],
      "metadata": {
        "id": "br7x2lxTl8cC"
      },
      "execution_count": null,
      "outputs": []
    }
  ]
}