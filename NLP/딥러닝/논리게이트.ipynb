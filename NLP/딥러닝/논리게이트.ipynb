{
  "nbformat": 4,
  "nbformat_minor": 0,
  "metadata": {
    "colab": {
      "name": "Untitled31.ipynb",
      "provenance": []
    },
    "kernelspec": {
      "name": "python3",
      "display_name": "Python 3"
    },
    "language_info": {
      "name": "python"
    }
  },
  "cells": [
    {
      "cell_type": "code",
      "execution_count": 1,
      "metadata": {
        "id": "j6gQClTHP8s9"
      },
      "outputs": [],
      "source": [
        "def AND_gate(x1, x2):\n",
        "  w1 = 0.5\n",
        "  w2 = 0.5\n",
        "  b = -0.7\n",
        "  result = x1*w1 + x2*w2 + b\n",
        "  if result <= 0:\n",
        "    return 0\n",
        "  else :\n",
        "    return 1"
      ]
    },
    {
      "cell_type": "code",
      "source": [
        "AND_gate(0, 0), AND_gate(0, 1), AND_gate(1, 0), AND_gate(1, 1)"
      ],
      "metadata": {
        "colab": {
          "base_uri": "https://localhost:8080/"
        },
        "id": "XvvE9zYCQH9E",
        "outputId": "e2f6898a-0cb9-4976-8124-cc66f139ea13"
      },
      "execution_count": 2,
      "outputs": [
        {
          "output_type": "execute_result",
          "data": {
            "text/plain": [
              "(0, 0, 0, 1)"
            ]
          },
          "metadata": {},
          "execution_count": 2
        }
      ]
    },
    {
      "cell_type": "code",
      "source": [
        "def NAND_gate(x1, x2):\n",
        "  w1 = -0.5\n",
        "  w2 = -0.5\n",
        "  b = 0.7\n",
        "  result = x1*w1 + x2*w2 + b\n",
        "  if result <= 0:\n",
        "    return 0\n",
        "  else :\n",
        "    return 1"
      ],
      "metadata": {
        "id": "ZztoTNWlQOin"
      },
      "execution_count": 3,
      "outputs": []
    },
    {
      "cell_type": "code",
      "source": [
        "NAND_gate(0, 0), NAND_gate(0, 1), NAND_gate(1, 0), NAND_gate(1, 1)"
      ],
      "metadata": {
        "colab": {
          "base_uri": "https://localhost:8080/"
        },
        "id": "shGFqkiHQa-H",
        "outputId": "f621d084-12de-4cac-8242-27da4e6d4d30"
      },
      "execution_count": 4,
      "outputs": [
        {
          "output_type": "execute_result",
          "data": {
            "text/plain": [
              "(1, 1, 1, 0)"
            ]
          },
          "metadata": {},
          "execution_count": 4
        }
      ]
    },
    {
      "cell_type": "code",
      "source": [
        "def OR_gate(x1, x2):\n",
        "  w1 = 0.6\n",
        "  w2 = 0.6\n",
        "  b = -0.5\n",
        "  result = x1*w1 + x2*w2 + b\n",
        "  if result <= 0:\n",
        "    return 0\n",
        "  else :\n",
        "    return 1"
      ],
      "metadata": {
        "id": "ajt1lX1TQfGX"
      },
      "execution_count": 5,
      "outputs": []
    },
    {
      "cell_type": "code",
      "source": [
        "OR_gate(0, 0), OR_gate(0, 1), OR_gate(1, 0), OR_gate(1, 1)"
      ],
      "metadata": {
        "colab": {
          "base_uri": "https://localhost:8080/"
        },
        "id": "9eluFQ-LQpOg",
        "outputId": "71a9b8dc-c7c8-4bbf-e7bd-39cf9cae033a"
      },
      "execution_count": 6,
      "outputs": [
        {
          "output_type": "execute_result",
          "data": {
            "text/plain": [
              "(0, 1, 1, 1)"
            ]
          },
          "metadata": {},
          "execution_count": 6
        }
      ]
    },
    {
      "cell_type": "code",
      "source": [
        "def XOR_gate(x1, x2):\n",
        "  return AND_gate(NAND_gate(x1,x2), OR_gate(x1,x2))"
      ],
      "metadata": {
        "id": "8jNNA5yeQwtH"
      },
      "execution_count": 7,
      "outputs": []
    },
    {
      "cell_type": "code",
      "source": [
        "XOR_gate(0,0), XOR_gate(0,1), XOR_gate(1,0), XOR_gate(1,1)"
      ],
      "metadata": {
        "colab": {
          "base_uri": "https://localhost:8080/"
        },
        "id": "3GBLof6rRZfV",
        "outputId": "339753b2-d901-4284-9980-30366a1c3f48"
      },
      "execution_count": 8,
      "outputs": [
        {
          "output_type": "execute_result",
          "data": {
            "text/plain": [
              "(0, 1, 1, 0)"
            ]
          },
          "metadata": {},
          "execution_count": 8
        }
      ]
    }
  ]
}